{
 "cells": [
  {
   "cell_type": "code",
   "execution_count": 99,
   "id": "6bb2c908-29c3-4bc6-8be0-7a0c0ff8228d",
   "metadata": {},
   "outputs": [],
   "source": [
    "import pandas as pd\n",
    "import numpy as np\n",
    "from sklearn.linear_model import LinearRegression, Lasso\n",
    "from sklearn.pipeline import Pipeline\n",
    "from sklearn.ensemble import RandomForestRegressor\n",
    "from sklearn.neural_network import MLPRegressor\n",
    "from sklearn.preprocessing import StandardScaler\n",
    "from sklearn.model_selection import cross_val_score\n",
    "from sklearn.metrics import r2_score, mean_absolute_error, accuracy_score\n",
    "math_data = pd.read_csv(\"student-mat.csv\")"
   ]
  },
  {
   "cell_type": "code",
   "execution_count": 100,
   "id": "ed866b2d-bff4-4a08-98cd-a977e6baf8d5",
   "metadata": {},
   "outputs": [],
   "source": [
    "math_data.drop(['address', 'school', 'age', 'nursery', 'famsize', 'failures', 'Mjob', 'romantic', 'Fjob', 'reason', 'goout', 'guardian', 'famsup', 'Dalc', 'Walc', 'G2'], axis = 1, inplace=True)\n",
    "#math_data.drop(['address', 'G2'], axis=1, inplace=True)"
   ]
  },
  {
   "cell_type": "code",
   "execution_count": 101,
   "id": "516c3ed2-3656-4a16-9397-75c9a014a227",
   "metadata": {},
   "outputs": [],
   "source": [
    "data_dum = pd.get_dummies(math_data)"
   ]
  },
  {
   "cell_type": "code",
   "execution_count": 102,
   "id": "2cf0efb5-c35a-4e6a-89d7-ead7e0767f59",
   "metadata": {},
   "outputs": [
    {
     "data": {
      "text/html": [
       "<div>\n",
       "<style scoped>\n",
       "    .dataframe tbody tr th:only-of-type {\n",
       "        vertical-align: middle;\n",
       "    }\n",
       "\n",
       "    .dataframe tbody tr th {\n",
       "        vertical-align: top;\n",
       "    }\n",
       "\n",
       "    .dataframe thead th {\n",
       "        text-align: right;\n",
       "    }\n",
       "</style>\n",
       "<table border=\"1\" class=\"dataframe\">\n",
       "  <thead>\n",
       "    <tr style=\"text-align: right;\">\n",
       "      <th></th>\n",
       "      <th>Medu</th>\n",
       "      <th>Fedu</th>\n",
       "      <th>traveltime</th>\n",
       "      <th>studytime</th>\n",
       "      <th>famrel</th>\n",
       "      <th>freetime</th>\n",
       "      <th>health</th>\n",
       "      <th>absences</th>\n",
       "      <th>G1</th>\n",
       "      <th>G3</th>\n",
       "      <th>...</th>\n",
       "      <th>schoolsup_no</th>\n",
       "      <th>schoolsup_yes</th>\n",
       "      <th>paid_no</th>\n",
       "      <th>paid_yes</th>\n",
       "      <th>activities_no</th>\n",
       "      <th>activities_yes</th>\n",
       "      <th>higher_no</th>\n",
       "      <th>higher_yes</th>\n",
       "      <th>internet_no</th>\n",
       "      <th>internet_yes</th>\n",
       "    </tr>\n",
       "  </thead>\n",
       "  <tbody>\n",
       "    <tr>\n",
       "      <th>0</th>\n",
       "      <td>4</td>\n",
       "      <td>4</td>\n",
       "      <td>2</td>\n",
       "      <td>2</td>\n",
       "      <td>4</td>\n",
       "      <td>3</td>\n",
       "      <td>3</td>\n",
       "      <td>6</td>\n",
       "      <td>5</td>\n",
       "      <td>6</td>\n",
       "      <td>...</td>\n",
       "      <td>0</td>\n",
       "      <td>1</td>\n",
       "      <td>1</td>\n",
       "      <td>0</td>\n",
       "      <td>1</td>\n",
       "      <td>0</td>\n",
       "      <td>0</td>\n",
       "      <td>1</td>\n",
       "      <td>1</td>\n",
       "      <td>0</td>\n",
       "    </tr>\n",
       "    <tr>\n",
       "      <th>1</th>\n",
       "      <td>1</td>\n",
       "      <td>1</td>\n",
       "      <td>1</td>\n",
       "      <td>2</td>\n",
       "      <td>5</td>\n",
       "      <td>3</td>\n",
       "      <td>3</td>\n",
       "      <td>4</td>\n",
       "      <td>5</td>\n",
       "      <td>6</td>\n",
       "      <td>...</td>\n",
       "      <td>1</td>\n",
       "      <td>0</td>\n",
       "      <td>1</td>\n",
       "      <td>0</td>\n",
       "      <td>1</td>\n",
       "      <td>0</td>\n",
       "      <td>0</td>\n",
       "      <td>1</td>\n",
       "      <td>0</td>\n",
       "      <td>1</td>\n",
       "    </tr>\n",
       "    <tr>\n",
       "      <th>2</th>\n",
       "      <td>1</td>\n",
       "      <td>1</td>\n",
       "      <td>1</td>\n",
       "      <td>2</td>\n",
       "      <td>4</td>\n",
       "      <td>3</td>\n",
       "      <td>3</td>\n",
       "      <td>10</td>\n",
       "      <td>7</td>\n",
       "      <td>10</td>\n",
       "      <td>...</td>\n",
       "      <td>0</td>\n",
       "      <td>1</td>\n",
       "      <td>0</td>\n",
       "      <td>1</td>\n",
       "      <td>1</td>\n",
       "      <td>0</td>\n",
       "      <td>0</td>\n",
       "      <td>1</td>\n",
       "      <td>0</td>\n",
       "      <td>1</td>\n",
       "    </tr>\n",
       "    <tr>\n",
       "      <th>3</th>\n",
       "      <td>4</td>\n",
       "      <td>2</td>\n",
       "      <td>1</td>\n",
       "      <td>3</td>\n",
       "      <td>3</td>\n",
       "      <td>2</td>\n",
       "      <td>5</td>\n",
       "      <td>2</td>\n",
       "      <td>15</td>\n",
       "      <td>15</td>\n",
       "      <td>...</td>\n",
       "      <td>1</td>\n",
       "      <td>0</td>\n",
       "      <td>0</td>\n",
       "      <td>1</td>\n",
       "      <td>0</td>\n",
       "      <td>1</td>\n",
       "      <td>0</td>\n",
       "      <td>1</td>\n",
       "      <td>0</td>\n",
       "      <td>1</td>\n",
       "    </tr>\n",
       "    <tr>\n",
       "      <th>4</th>\n",
       "      <td>3</td>\n",
       "      <td>3</td>\n",
       "      <td>1</td>\n",
       "      <td>2</td>\n",
       "      <td>4</td>\n",
       "      <td>3</td>\n",
       "      <td>5</td>\n",
       "      <td>4</td>\n",
       "      <td>6</td>\n",
       "      <td>10</td>\n",
       "      <td>...</td>\n",
       "      <td>1</td>\n",
       "      <td>0</td>\n",
       "      <td>0</td>\n",
       "      <td>1</td>\n",
       "      <td>1</td>\n",
       "      <td>0</td>\n",
       "      <td>0</td>\n",
       "      <td>1</td>\n",
       "      <td>1</td>\n",
       "      <td>0</td>\n",
       "    </tr>\n",
       "  </tbody>\n",
       "</table>\n",
       "<p>5 rows × 24 columns</p>\n",
       "</div>"
      ],
      "text/plain": [
       "   Medu  Fedu  traveltime  studytime  famrel  freetime  health  absences  G1  \\\n",
       "0     4     4           2          2       4         3       3         6   5   \n",
       "1     1     1           1          2       5         3       3         4   5   \n",
       "2     1     1           1          2       4         3       3        10   7   \n",
       "3     4     2           1          3       3         2       5         2  15   \n",
       "4     3     3           1          2       4         3       5         4   6   \n",
       "\n",
       "   G3  ...  schoolsup_no  schoolsup_yes  paid_no  paid_yes  activities_no  \\\n",
       "0   6  ...             0              1        1         0              1   \n",
       "1   6  ...             1              0        1         0              1   \n",
       "2  10  ...             0              1        0         1              1   \n",
       "3  15  ...             1              0        0         1              0   \n",
       "4  10  ...             1              0        0         1              1   \n",
       "\n",
       "   activities_yes  higher_no  higher_yes  internet_no  internet_yes  \n",
       "0               0          0           1            1             0  \n",
       "1               0          0           1            0             1  \n",
       "2               0          0           1            0             1  \n",
       "3               1          0           1            0             1  \n",
       "4               0          0           1            1             0  \n",
       "\n",
       "[5 rows x 24 columns]"
      ]
     },
     "execution_count": 102,
     "metadata": {},
     "output_type": "execute_result"
    }
   ],
   "source": [
    "data_dum.head()"
   ]
  },
  {
   "cell_type": "code",
   "execution_count": 103,
   "id": "69fa7dbd-4e15-4986-a202-fefd456f5e1d",
   "metadata": {},
   "outputs": [],
   "source": [
    "data_dum.drop(['Pstatus_A', 'schoolsup_no', 'paid_no', 'activities_no', 'internet_no', 'higher_no'], axis=1, inplace=True)"
   ]
  },
  {
   "cell_type": "code",
   "execution_count": 104,
   "id": "aced265c-0612-4d8e-8a82-d7de30084583",
   "metadata": {},
   "outputs": [
    {
     "data": {
      "text/html": [
       "<div>\n",
       "<style scoped>\n",
       "    .dataframe tbody tr th:only-of-type {\n",
       "        vertical-align: middle;\n",
       "    }\n",
       "\n",
       "    .dataframe tbody tr th {\n",
       "        vertical-align: top;\n",
       "    }\n",
       "\n",
       "    .dataframe thead th {\n",
       "        text-align: right;\n",
       "    }\n",
       "</style>\n",
       "<table border=\"1\" class=\"dataframe\">\n",
       "  <thead>\n",
       "    <tr style=\"text-align: right;\">\n",
       "      <th></th>\n",
       "      <th>Medu</th>\n",
       "      <th>Fedu</th>\n",
       "      <th>traveltime</th>\n",
       "      <th>studytime</th>\n",
       "      <th>famrel</th>\n",
       "      <th>freetime</th>\n",
       "      <th>health</th>\n",
       "      <th>absences</th>\n",
       "      <th>G1</th>\n",
       "      <th>G3</th>\n",
       "      <th>sex_F</th>\n",
       "      <th>sex_M</th>\n",
       "      <th>Pstatus_T</th>\n",
       "      <th>schoolsup_yes</th>\n",
       "      <th>paid_yes</th>\n",
       "      <th>activities_yes</th>\n",
       "      <th>higher_yes</th>\n",
       "      <th>internet_yes</th>\n",
       "    </tr>\n",
       "  </thead>\n",
       "  <tbody>\n",
       "    <tr>\n",
       "      <th>0</th>\n",
       "      <td>4</td>\n",
       "      <td>4</td>\n",
       "      <td>2</td>\n",
       "      <td>2</td>\n",
       "      <td>4</td>\n",
       "      <td>3</td>\n",
       "      <td>3</td>\n",
       "      <td>6</td>\n",
       "      <td>5</td>\n",
       "      <td>6</td>\n",
       "      <td>1</td>\n",
       "      <td>0</td>\n",
       "      <td>0</td>\n",
       "      <td>1</td>\n",
       "      <td>0</td>\n",
       "      <td>0</td>\n",
       "      <td>1</td>\n",
       "      <td>0</td>\n",
       "    </tr>\n",
       "    <tr>\n",
       "      <th>1</th>\n",
       "      <td>1</td>\n",
       "      <td>1</td>\n",
       "      <td>1</td>\n",
       "      <td>2</td>\n",
       "      <td>5</td>\n",
       "      <td>3</td>\n",
       "      <td>3</td>\n",
       "      <td>4</td>\n",
       "      <td>5</td>\n",
       "      <td>6</td>\n",
       "      <td>1</td>\n",
       "      <td>0</td>\n",
       "      <td>1</td>\n",
       "      <td>0</td>\n",
       "      <td>0</td>\n",
       "      <td>0</td>\n",
       "      <td>1</td>\n",
       "      <td>1</td>\n",
       "    </tr>\n",
       "    <tr>\n",
       "      <th>2</th>\n",
       "      <td>1</td>\n",
       "      <td>1</td>\n",
       "      <td>1</td>\n",
       "      <td>2</td>\n",
       "      <td>4</td>\n",
       "      <td>3</td>\n",
       "      <td>3</td>\n",
       "      <td>10</td>\n",
       "      <td>7</td>\n",
       "      <td>10</td>\n",
       "      <td>1</td>\n",
       "      <td>0</td>\n",
       "      <td>1</td>\n",
       "      <td>1</td>\n",
       "      <td>1</td>\n",
       "      <td>0</td>\n",
       "      <td>1</td>\n",
       "      <td>1</td>\n",
       "    </tr>\n",
       "    <tr>\n",
       "      <th>3</th>\n",
       "      <td>4</td>\n",
       "      <td>2</td>\n",
       "      <td>1</td>\n",
       "      <td>3</td>\n",
       "      <td>3</td>\n",
       "      <td>2</td>\n",
       "      <td>5</td>\n",
       "      <td>2</td>\n",
       "      <td>15</td>\n",
       "      <td>15</td>\n",
       "      <td>1</td>\n",
       "      <td>0</td>\n",
       "      <td>1</td>\n",
       "      <td>0</td>\n",
       "      <td>1</td>\n",
       "      <td>1</td>\n",
       "      <td>1</td>\n",
       "      <td>1</td>\n",
       "    </tr>\n",
       "    <tr>\n",
       "      <th>4</th>\n",
       "      <td>3</td>\n",
       "      <td>3</td>\n",
       "      <td>1</td>\n",
       "      <td>2</td>\n",
       "      <td>4</td>\n",
       "      <td>3</td>\n",
       "      <td>5</td>\n",
       "      <td>4</td>\n",
       "      <td>6</td>\n",
       "      <td>10</td>\n",
       "      <td>1</td>\n",
       "      <td>0</td>\n",
       "      <td>1</td>\n",
       "      <td>0</td>\n",
       "      <td>1</td>\n",
       "      <td>0</td>\n",
       "      <td>1</td>\n",
       "      <td>0</td>\n",
       "    </tr>\n",
       "    <tr>\n",
       "      <th>5</th>\n",
       "      <td>4</td>\n",
       "      <td>3</td>\n",
       "      <td>1</td>\n",
       "      <td>2</td>\n",
       "      <td>5</td>\n",
       "      <td>4</td>\n",
       "      <td>5</td>\n",
       "      <td>10</td>\n",
       "      <td>15</td>\n",
       "      <td>15</td>\n",
       "      <td>0</td>\n",
       "      <td>1</td>\n",
       "      <td>1</td>\n",
       "      <td>0</td>\n",
       "      <td>1</td>\n",
       "      <td>1</td>\n",
       "      <td>1</td>\n",
       "      <td>1</td>\n",
       "    </tr>\n",
       "    <tr>\n",
       "      <th>6</th>\n",
       "      <td>2</td>\n",
       "      <td>2</td>\n",
       "      <td>1</td>\n",
       "      <td>2</td>\n",
       "      <td>4</td>\n",
       "      <td>4</td>\n",
       "      <td>3</td>\n",
       "      <td>0</td>\n",
       "      <td>12</td>\n",
       "      <td>11</td>\n",
       "      <td>0</td>\n",
       "      <td>1</td>\n",
       "      <td>1</td>\n",
       "      <td>0</td>\n",
       "      <td>0</td>\n",
       "      <td>0</td>\n",
       "      <td>1</td>\n",
       "      <td>1</td>\n",
       "    </tr>\n",
       "    <tr>\n",
       "      <th>7</th>\n",
       "      <td>4</td>\n",
       "      <td>4</td>\n",
       "      <td>2</td>\n",
       "      <td>2</td>\n",
       "      <td>4</td>\n",
       "      <td>1</td>\n",
       "      <td>1</td>\n",
       "      <td>6</td>\n",
       "      <td>6</td>\n",
       "      <td>6</td>\n",
       "      <td>1</td>\n",
       "      <td>0</td>\n",
       "      <td>0</td>\n",
       "      <td>1</td>\n",
       "      <td>0</td>\n",
       "      <td>0</td>\n",
       "      <td>1</td>\n",
       "      <td>0</td>\n",
       "    </tr>\n",
       "    <tr>\n",
       "      <th>8</th>\n",
       "      <td>3</td>\n",
       "      <td>2</td>\n",
       "      <td>1</td>\n",
       "      <td>2</td>\n",
       "      <td>4</td>\n",
       "      <td>2</td>\n",
       "      <td>1</td>\n",
       "      <td>0</td>\n",
       "      <td>16</td>\n",
       "      <td>19</td>\n",
       "      <td>0</td>\n",
       "      <td>1</td>\n",
       "      <td>0</td>\n",
       "      <td>0</td>\n",
       "      <td>1</td>\n",
       "      <td>0</td>\n",
       "      <td>1</td>\n",
       "      <td>1</td>\n",
       "    </tr>\n",
       "    <tr>\n",
       "      <th>9</th>\n",
       "      <td>3</td>\n",
       "      <td>4</td>\n",
       "      <td>1</td>\n",
       "      <td>2</td>\n",
       "      <td>5</td>\n",
       "      <td>5</td>\n",
       "      <td>5</td>\n",
       "      <td>0</td>\n",
       "      <td>14</td>\n",
       "      <td>15</td>\n",
       "      <td>0</td>\n",
       "      <td>1</td>\n",
       "      <td>1</td>\n",
       "      <td>0</td>\n",
       "      <td>1</td>\n",
       "      <td>1</td>\n",
       "      <td>1</td>\n",
       "      <td>1</td>\n",
       "    </tr>\n",
       "  </tbody>\n",
       "</table>\n",
       "</div>"
      ],
      "text/plain": [
       "   Medu  Fedu  traveltime  studytime  famrel  freetime  health  absences  G1  \\\n",
       "0     4     4           2          2       4         3       3         6   5   \n",
       "1     1     1           1          2       5         3       3         4   5   \n",
       "2     1     1           1          2       4         3       3        10   7   \n",
       "3     4     2           1          3       3         2       5         2  15   \n",
       "4     3     3           1          2       4         3       5         4   6   \n",
       "5     4     3           1          2       5         4       5        10  15   \n",
       "6     2     2           1          2       4         4       3         0  12   \n",
       "7     4     4           2          2       4         1       1         6   6   \n",
       "8     3     2           1          2       4         2       1         0  16   \n",
       "9     3     4           1          2       5         5       5         0  14   \n",
       "\n",
       "   G3  sex_F  sex_M  Pstatus_T  schoolsup_yes  paid_yes  activities_yes  \\\n",
       "0   6      1      0          0              1         0               0   \n",
       "1   6      1      0          1              0         0               0   \n",
       "2  10      1      0          1              1         1               0   \n",
       "3  15      1      0          1              0         1               1   \n",
       "4  10      1      0          1              0         1               0   \n",
       "5  15      0      1          1              0         1               1   \n",
       "6  11      0      1          1              0         0               0   \n",
       "7   6      1      0          0              1         0               0   \n",
       "8  19      0      1          0              0         1               0   \n",
       "9  15      0      1          1              0         1               1   \n",
       "\n",
       "   higher_yes  internet_yes  \n",
       "0           1             0  \n",
       "1           1             1  \n",
       "2           1             1  \n",
       "3           1             1  \n",
       "4           1             0  \n",
       "5           1             1  \n",
       "6           1             1  \n",
       "7           1             0  \n",
       "8           1             1  \n",
       "9           1             1  "
      ]
     },
     "execution_count": 104,
     "metadata": {},
     "output_type": "execute_result"
    }
   ],
   "source": [
    "data_dum.head(10)"
   ]
  },
  {
   "cell_type": "code",
   "execution_count": 105,
   "id": "da6343d8-ba53-4e8f-bbfb-a7eb5a2dc9b9",
   "metadata": {},
   "outputs": [
    {
     "data": {
      "text/plain": [
       "Index(['Medu', 'Fedu', 'traveltime', 'studytime', 'famrel', 'freetime',\n",
       "       'health', 'absences', 'G1', 'G3', 'sex_F', 'sex_M', 'Pstatus_T',\n",
       "       'schoolsup_yes', 'paid_yes', 'activities_yes', 'higher_yes',\n",
       "       'internet_yes'],\n",
       "      dtype='object')"
      ]
     },
     "execution_count": 105,
     "metadata": {},
     "output_type": "execute_result"
    }
   ],
   "source": [
    "data_dum.columns"
   ]
  },
  {
   "cell_type": "code",
   "execution_count": 106,
   "id": "2d9b27ba-ae76-4cbd-a7d9-2cb591a86dc2",
   "metadata": {},
   "outputs": [
    {
     "name": "stdout",
     "output_type": "stream",
     "text": [
      "Train size:  316 Test size:  79\n"
     ]
    }
   ],
   "source": [
    "from sklearn.model_selection import train_test_split\n",
    "\n",
    "train_set, test_set = train_test_split(data_dum, \n",
    "                        test_size=0.2, random_state=123)\n",
    "print('Train size: ', len(train_set), 'Test size: ', len(test_set))"
   ]
  },
  {
   "cell_type": "code",
   "execution_count": 107,
   "id": "b07fb378-6826-42c2-85ed-1df202bcdc38",
   "metadata": {},
   "outputs": [],
   "source": [
    "X = data_dum.drop('G3', axis=1)\n",
    "y = data_dum.G3.values\n",
    "X_train, X_test, y_train, y_test = train_test_split(X, y, test_size=0.2, random_state=123)\n"
   ]
  },
  {
   "cell_type": "code",
   "execution_count": 108,
   "id": "17a3cd98-162b-446f-997e-06ce105084a3",
   "metadata": {},
   "outputs": [],
   "source": [
    "pipeline_linreg=Pipeline([('scalar1', StandardScaler()),('Linreg', LinearRegression())]) "
   ]
  },
  {
   "cell_type": "code",
   "execution_count": 109,
   "id": "c6b4b575-5bf4-441c-94b9-ae38f9d7fe49",
   "metadata": {},
   "outputs": [],
   "source": [
    "pipeline_lass=Pipeline([('scalar2', StandardScaler()),('Lasso', Lasso(alpha=.73))]) "
   ]
  },
  {
   "cell_type": "code",
   "execution_count": 110,
   "id": "1f520c3f-2c30-40be-a17f-6e3b054afec1",
   "metadata": {},
   "outputs": [],
   "source": [
    "pipeline_ranfor=Pipeline([('scalar3', StandardScaler()),('ranfor', RandomForestRegressor(n_estimators=100))]) "
   ]
  },
  {
   "cell_type": "code",
   "execution_count": 111,
   "id": "877ee336-de1b-4267-af9d-1b2fdd5ce8f5",
   "metadata": {},
   "outputs": [],
   "source": [
    "pipeline_nn=Pipeline([('scalar4', StandardScaler()), ('NN', MLPRegressor())])"
   ]
  },
  {
   "cell_type": "code",
   "execution_count": 112,
   "id": "7e1f1663-80cb-41a7-95cb-b2f4721c08c8",
   "metadata": {},
   "outputs": [],
   "source": [
    "pipelines = [pipeline_linreg, pipeline_lass, pipeline_ranfor, pipeline_nn]"
   ]
  },
  {
   "cell_type": "code",
   "execution_count": 113,
   "id": "a667fc79-9d1e-4dbf-84ad-3d257c311d68",
   "metadata": {},
   "outputs": [],
   "source": [
    "pip_dict = {0: 'Linear Regression', 1: 'Lasso Regression', 2: 'Random Forest Regressor', 3: 'NN'}"
   ]
  },
  {
   "cell_type": "code",
   "execution_count": 114,
   "id": "627c2335-81a2-48ce-bea9-82ebbfd451f0",
   "metadata": {},
   "outputs": [
    {
     "name": "stderr",
     "output_type": "stream",
     "text": [
      "C:\\Users\\chris\\miniconda3\\lib\\site-packages\\sklearn\\neural_network\\_multilayer_perceptron.py:702: ConvergenceWarning: Stochastic Optimizer: Maximum iterations (200) reached and the optimization hasn't converged yet.\n",
      "  warnings.warn(\n"
     ]
    }
   ],
   "source": [
    "for pipe in pipelines:\n",
    "    pipe.fit(X_train, y_train)"
   ]
  },
  {
   "cell_type": "code",
   "execution_count": 115,
   "id": "adf3d1f9-5388-4ec7-a88b-bdbc3b49cadf",
   "metadata": {},
   "outputs": [
    {
     "name": "stdout",
     "output_type": "stream",
     "text": [
      "Linear Regression train accuracy 0.6562681262265416 ,Linear Regression test accuracy 0.7084566481016079\n",
      "Lasso Regression train accuracy 0.5933856610897665 ,Lasso Regression test accuracy 0.6739290589440456\n",
      "Random Forest Regressor train accuracy 0.9556319642287939 ,Random Forest Regressor test accuracy 0.8319284301939098\n",
      "NN train accuracy 0.6634451179292444 ,NN test accuracy 0.652790198025547\n"
     ]
    }
   ],
   "source": [
    "for i,model in enumerate(pipelines):\n",
    "    print(\"{} train accuracy {}\".format(pip_dict[i], model.score(X_train,y_train)), \",{} test accuracy {}\".format(pip_dict[i], model.score(X_test,y_test)))\n",
    "    \n"
   ]
  },
  {
   "cell_type": "code",
   "execution_count": 116,
   "id": "2e575f05-5e07-482e-b2cc-2261534aa4a9",
   "metadata": {},
   "outputs": [
    {
     "data": {
      "text/plain": [
       "-2.060425250031434"
      ]
     },
     "execution_count": 116,
     "metadata": {},
     "output_type": "execute_result"
    }
   ],
   "source": [
    "np.mean(cross_val_score(pipeline_linreg,X_train,y_train,scoring  = 'neg_mean_absolute_error'))"
   ]
  },
  {
   "cell_type": "code",
   "execution_count": 118,
   "id": "4211bb2d-dd26-4d19-893d-1f624ffbdf69",
   "metadata": {},
   "outputs": [
    {
     "data": {
      "text/plain": [
       "-1.9300015925604086"
      ]
     },
     "execution_count": 118,
     "metadata": {},
     "output_type": "execute_result"
    }
   ],
   "source": [
    "np.mean(cross_val_score(pipeline_lass,X_train,y_train,scoring  = 'neg_mean_absolute_error'))"
   ]
  },
  {
   "cell_type": "code",
   "execution_count": 121,
   "id": "17a4c071-29fb-4592-8368-c3557f4eb189",
   "metadata": {},
   "outputs": [
    {
     "data": {
      "text/plain": [
       "-1.889109623015873"
      ]
     },
     "execution_count": 121,
     "metadata": {},
     "output_type": "execute_result"
    }
   ],
   "source": [
    "np.mean(cross_val_score(pipeline_ranfor,X_train,y_train,scoring  = 'neg_mean_absolute_error'))"
   ]
  },
  {
   "cell_type": "code",
   "execution_count": 123,
   "id": "46c61c84-f286-4351-81ad-ef0e09c933b3",
   "metadata": {},
   "outputs": [
    {
     "name": "stderr",
     "output_type": "stream",
     "text": [
      "C:\\Users\\chris\\miniconda3\\lib\\site-packages\\sklearn\\neural_network\\_multilayer_perceptron.py:702: ConvergenceWarning: Stochastic Optimizer: Maximum iterations (200) reached and the optimization hasn't converged yet.\n",
      "  warnings.warn(\n",
      "C:\\Users\\chris\\miniconda3\\lib\\site-packages\\sklearn\\neural_network\\_multilayer_perceptron.py:702: ConvergenceWarning: Stochastic Optimizer: Maximum iterations (200) reached and the optimization hasn't converged yet.\n",
      "  warnings.warn(\n",
      "C:\\Users\\chris\\miniconda3\\lib\\site-packages\\sklearn\\neural_network\\_multilayer_perceptron.py:702: ConvergenceWarning: Stochastic Optimizer: Maximum iterations (200) reached and the optimization hasn't converged yet.\n",
      "  warnings.warn(\n",
      "C:\\Users\\chris\\miniconda3\\lib\\site-packages\\sklearn\\neural_network\\_multilayer_perceptron.py:702: ConvergenceWarning: Stochastic Optimizer: Maximum iterations (200) reached and the optimization hasn't converged yet.\n",
      "  warnings.warn(\n",
      "C:\\Users\\chris\\miniconda3\\lib\\site-packages\\sklearn\\neural_network\\_multilayer_perceptron.py:702: ConvergenceWarning: Stochastic Optimizer: Maximum iterations (200) reached and the optimization hasn't converged yet.\n",
      "  warnings.warn(\n"
     ]
    },
    {
     "data": {
      "text/plain": [
       "-2.348797243913731"
      ]
     },
     "execution_count": 123,
     "metadata": {},
     "output_type": "execute_result"
    }
   ],
   "source": [
    "np.mean(cross_val_score(pipeline_nn,X_train,y_train,scoring  = 'neg_mean_absolute_error'))"
   ]
  },
  {
   "cell_type": "code",
   "execution_count": 124,
   "id": "a88d9a32-53e3-4dca-950a-cd1888c10faa",
   "metadata": {},
   "outputs": [
    {
     "name": "stdout",
     "output_type": "stream",
     "text": [
      "R^2  0.6562681262265416\n",
      "MAE is  1.9248930907105402\n"
     ]
    }
   ],
   "source": [
    "y_pred = pipeline_linreg.predict(X_train)\n",
    "print('R^2 ', r2_score(y_train,y_pred))\n",
    "print('MAE is ', mean_absolute_error(y_train, y_pred))\n"
   ]
  },
  {
   "cell_type": "code",
   "execution_count": 125,
   "id": "50121118-0329-48ff-8c75-1277df10d838",
   "metadata": {},
   "outputs": [
    {
     "name": "stdout",
     "output_type": "stream",
     "text": [
      "R^2  0.5933856610897665\n",
      "MAE is  1.9131764469432753\n"
     ]
    }
   ],
   "source": [
    "y_pred = pipeline_lass.predict(X_train)\n",
    "print('R^2 ', r2_score(y_train,y_pred))\n",
    "print('MAE is ', mean_absolute_error(y_train, y_pred))"
   ]
  },
  {
   "cell_type": "code",
   "execution_count": 126,
   "id": "38af5909-9c49-4760-8dc4-48f5db0387d9",
   "metadata": {},
   "outputs": [
    {
     "name": "stdout",
     "output_type": "stream",
     "text": [
      "R^2  0.9556319642287939\n",
      "MAE is  0.6945886075949368\n"
     ]
    }
   ],
   "source": [
    "y_pred = pipeline_ranfor.predict(X_train)\n",
    "print('R^2 ', r2_score(y_train,y_pred))\n",
    "print('MAE is ', mean_absolute_error(y_train, y_pred))"
   ]
  },
  {
   "cell_type": "code",
   "execution_count": 127,
   "id": "7f59ce38-e3f1-4257-b42c-af4809ed4feb",
   "metadata": {},
   "outputs": [
    {
     "name": "stdout",
     "output_type": "stream",
     "text": [
      "R^2  0.6634451179292444\n",
      "MAE is  1.9173958742213506\n"
     ]
    }
   ],
   "source": [
    "y_pred = pipeline_nn.predict(X_train)\n",
    "print('R^2 ', r2_score(y_train,y_pred))\n",
    "print('MAE is ', mean_absolute_error(y_train, y_pred))"
   ]
  },
  {
   "cell_type": "code",
   "execution_count": 128,
   "id": "1248845b-76d0-475b-a6b1-de886e18389f",
   "metadata": {},
   "outputs": [
    {
     "name": "stdout",
     "output_type": "stream",
     "text": [
      "R^2  0.7084566481016079\n",
      "MAE is  2.046475419552742\n"
     ]
    }
   ],
   "source": [
    "y_test_pred = pipeline_linreg.predict(X_test)\n",
    "print('R^2 ', r2_score(y_test,y_test_pred))\n",
    "print('MAE is ', mean_absolute_error(y_test, y_test_pred))"
   ]
  },
  {
   "cell_type": "code",
   "execution_count": 129,
   "id": "3d670c83-4aea-4d46-bb42-cf718ee5bd69",
   "metadata": {},
   "outputs": [
    {
     "name": "stdout",
     "output_type": "stream",
     "text": [
      "R^2  0.6739290589440456\n",
      "MAE is  1.9559023043244776\n"
     ]
    }
   ],
   "source": [
    "y_test_pred = pipeline_lass.predict(X_test)\n",
    "print('R^2 ', r2_score(y_test,y_test_pred))\n",
    "print('MAE is ', mean_absolute_error(y_test, y_test_pred))"
   ]
  },
  {
   "cell_type": "code",
   "execution_count": 130,
   "id": "d6954f8d-0366-4054-9c5c-98e0650febdd",
   "metadata": {},
   "outputs": [
    {
     "name": "stdout",
     "output_type": "stream",
     "text": [
      "R^2  0.8319284301939098\n",
      "MAE is  1.4359493670886074\n"
     ]
    }
   ],
   "source": [
    "y_test_pred = pipeline_ranfor.predict(X_test)\n",
    "print('R^2 ', r2_score(y_test,y_test_pred))\n",
    "print('MAE is ', mean_absolute_error(y_test, y_test_pred))"
   ]
  },
  {
   "cell_type": "code",
   "execution_count": 131,
   "id": "b8f798fa-4010-4c8f-8430-e4cdc0a08e6f",
   "metadata": {},
   "outputs": [
    {
     "name": "stdout",
     "output_type": "stream",
     "text": [
      "R^2  0.652790198025547\n",
      "MAE is  2.2050079089127803\n"
     ]
    }
   ],
   "source": [
    "y_test_pred = pipeline_nn.predict(X_test)\n",
    "print('R^2 ', r2_score(y_test,y_test_pred))\n",
    "print('MAE is ', mean_absolute_error(y_test, y_test_pred))"
   ]
  },
  {
   "cell_type": "code",
   "execution_count": null,
   "id": "e5b6da88-0bf5-4931-bd57-5701ed5e61c3",
   "metadata": {},
   "outputs": [],
   "source": []
  },
  {
   "cell_type": "code",
   "execution_count": null,
   "id": "3391b876",
   "metadata": {},
   "outputs": [],
   "source": []
  },
  {
   "cell_type": "code",
   "execution_count": null,
   "id": "44178ff5",
   "metadata": {},
   "outputs": [],
   "source": []
  }
 ],
 "metadata": {
  "kernelspec": {
   "display_name": "Python 3 (ipykernel)",
   "language": "python",
   "name": "python3"
  },
  "language_info": {
   "codemirror_mode": {
    "name": "ipython",
    "version": 3
   },
   "file_extension": ".py",
   "mimetype": "text/x-python",
   "name": "python",
   "nbconvert_exporter": "python",
   "pygments_lexer": "ipython3",
   "version": "3.9.12"
  }
 },
 "nbformat": 4,
 "nbformat_minor": 5
}
